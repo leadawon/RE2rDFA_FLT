{
 "cells": [
  {
   "attachments": {},
   "cell_type": "markdown",
   "metadata": {},
   "source": [
    "## RE -> epsilon-NFA"
   ]
  },
  {
   "attachments": {},
   "cell_type": "markdown",
   "metadata": {},
   "source": [
    "(a+b)*abb\n",
    "( recognize ( push , a recognize check len(stack) check stack[-1]+ a push ,+ push(just push) , b recognize check len(stack) check stack[-1]+ stack pop+ b push stack push+ , ) traverse until ( reveals check stack[index'('-1]+ check index'('0 pop all(just concat) , * check len(stack) write , a check len(stack)write, b write, b write\n",
    "\n",
    "(b+a(aa*b)*b)* \n",
    "( recognize ( push, b recognize check len(stack) check stack[-1]+ b push , + push , a recognize check len(stack) check stack[-1]+ +pop \n",
    "\n",
    "\n",
    "(b+aa+ac+aaa+aac)*\n",
    "\n",
    "(1+01)*00(0+1)*\n",
    "\n",
    "(0+1)*011  \n"
   ]
  },
  {
   "cell_type": "code",
   "execution_count": 374,
   "metadata": {},
   "outputs": [],
   "source": [
    "def isapt(c):\n",
    "    assert len(c) == 1\n",
    "    if ord(c) >= ord('a') and ord(c) <= ord('z') or ord(c) >= ord('A') and ord(c) <= ord('Z') or ord(c) >= ord('0') and ord(c) <= ord('9'):\n",
    "        return True\n",
    "    return False"
   ]
  },
  {
   "cell_type": "code",
   "execution_count": 375,
   "metadata": {},
   "outputs": [],
   "source": [
    "def isfast(org, top):\n",
    "    if org == '.' and top == '+':\n",
    "        return True\n",
    "    elif org == '*' and top != '*':\n",
    "        return True\n",
    "    return False\n",
    "         "
   ]
  },
  {
   "cell_type": "code",
   "execution_count": 376,
   "metadata": {},
   "outputs": [],
   "source": [
    "class node:\n",
    "    def __init__(self, cn, cv, left=None, right=None):\n",
    "        # cn : 0:+ 1:. 2:* 3:symbols\n",
    "        self.cn = cn\n",
    "        self.cv = cv\n",
    "        self.left = None\n",
    "        self.right = None"
   ]
  },
  {
   "cell_type": "code",
   "execution_count": 377,
   "metadata": {},
   "outputs": [],
   "source": [
    "RE_ARR = [\"(a+b)*abb\", \"(b+a(aa*b)*b)*\" ,\"(b+aa+ac+aaa+aac)*\", \"(1+01)*00(0+1)*\" ,\"(0+1)*011\"]"
   ]
  },
  {
   "cell_type": "code",
   "execution_count": 378,
   "metadata": {},
   "outputs": [
    {
     "name": "stdout",
     "output_type": "stream",
     "text": [
      "(a+b)*\n"
     ]
    }
   ],
   "source": [
    "RE = RE_ARR[0]\n",
    "RE = \"(a+b)*\"\n",
    "concatall = \"\"\n",
    "str_arr = []\n",
    "\n",
    "for i in range(len(RE)-1):\n",
    "    str_arr.append(RE[i])\n",
    "    if isapt(RE[i]):\n",
    "        if isapt(RE[i+1]) or RE[i+1] == '(':\n",
    "            str_arr.append('.')\n",
    "    if (RE[i] == ')' or RE[i] == '*') and (RE[i+1] == '(' or isapt(RE[i+1])):\n",
    "        str_arr.append('.')\n",
    "str_arr.append(RE[-1])\n",
    "concatall = \"\".join(str_arr)\n",
    "\n",
    "print(concatall)"
   ]
  },
  {
   "cell_type": "code",
   "execution_count": 379,
   "metadata": {},
   "outputs": [
    {
     "name": "stdout",
     "output_type": "stream",
     "text": [
      "ab+*\n"
     ]
    }
   ],
   "source": [
    "stack = []\n",
    "post_arr = []\n",
    "\n",
    "for c in concatall:\n",
    "    if isapt(c) or c == \"*\":\n",
    "        post_arr.append(c)\n",
    "    elif c == \")\":\n",
    "        while len(stack) > 0 and stack[-1] != \"(\":\n",
    "            post_arr.append(stack.pop())\n",
    "        stack.pop()\n",
    "    elif c == \"(\":\n",
    "        stack.append(c)\n",
    "    elif len(stack) == 0 or stack[-1] == \"(\" or isfast(c, stack[-1]):\n",
    "        \n",
    "        stack.append(c)\n",
    "    else:\n",
    "        while len(stack) > 0 and stack[-1] != \"(\" and not isfast(c, stack[-1]):\n",
    "            post_arr.append(stack.pop())\n",
    "        stack.append(c)\n",
    "while len(stack) > 0:\n",
    "    post_arr.append(stack.pop())\n",
    "\n",
    "postall = \"\".join(post_arr)\n",
    "print(postall)"
   ]
  },
  {
   "cell_type": "code",
   "execution_count": 380,
   "metadata": {},
   "outputs": [],
   "source": [
    "stack = []\n",
    "for c in postall:\n",
    "        if c == \"+\":\n",
    "            nd = node(0,c)\n",
    "            nd.right = stack.pop()\n",
    "            nd.left = stack.pop()\n",
    "            stack.append(nd)\n",
    "        elif c == \".\":\n",
    "            nd = node(1,c)\n",
    "            nd.right = stack.pop()\n",
    "            nd.left = stack.pop()\n",
    "            stack.append(nd)\n",
    "        elif c == \"*\":\n",
    "            nd = node(2,c)\n",
    "            nd.left = stack.pop() \n",
    "            stack.append(nd)\n",
    "        elif c == \"(\" or c == \")\":\n",
    "            continue  \n",
    "        else:\n",
    "            stack.append(node(3,c))"
   ]
  },
  {
   "cell_type": "code",
   "execution_count": 381,
   "metadata": {},
   "outputs": [],
   "source": [
    "class eNFA:\n",
    "    def __init__(self):\n",
    "        self.next = {}"
   ]
  },
  {
   "cell_type": "code",
   "execution_count": 382,
   "metadata": {},
   "outputs": [],
   "source": [
    "def scan_plus(nd):\n",
    "    start = eNFA()\n",
    "    end = eNFA()\n",
    "\n",
    "    left_eNFA = node_filter(nd.left)\n",
    "    right_eNFA = node_filter(nd.right)\n",
    "\n",
    "    start.next['ε'] = [left_eNFA[0], right_eNFA[0]]\n",
    "    left_eNFA[1].next['ε'] = [end]\n",
    "    right_eNFA[1].next['ε'] = [end]\n",
    "\n",
    "    return start, end\n",
    "\n",
    "def scan_dot(nd):\n",
    "    left_nfa  = node_filter(nd.left)\n",
    "    right_nfa = node_filter(nd.right)\n",
    "\n",
    "    left_nfa[1].next['ε'] = [right_nfa[0]]\n",
    "    return left_nfa[0], right_nfa[1]\n",
    "\n",
    "def scan_star(nd):\n",
    "    start = eNFA()\n",
    "    end = eNFA()\n",
    "\n",
    "    starred_nfa = node_filter(nd.left)\n",
    "\n",
    "    start.next['ε'] = [starred_nfa[0], end]\n",
    "    starred_nfa[1].next['ε'] = [starred_nfa[0], end]\n",
    "\n",
    "    return start, end\n",
    "\n",
    "def scan_symbol(nd):\n",
    "    start = eNFA()\n",
    "    end = eNFA()\n",
    "    \n",
    "    start.next[nd.cv] = [end]\n",
    "    return start, end"
   ]
  },
  {
   "cell_type": "code",
   "execution_count": 383,
   "metadata": {},
   "outputs": [],
   "source": [
    "def node_filter(nd):\n",
    "    if nd.cn == 0:\n",
    "        return scan_plus(nd)\n",
    "    elif nd.cn == 1:\n",
    "        return scan_dot(nd)\n",
    "    elif nd.cn == 2:\n",
    "        return scan_star(nd)\n",
    "    elif nd.cn == 3:\n",
    "        return scan_symbol(nd)\n",
    "    else:\n",
    "        print(\"error\")"
   ]
  },
  {
   "cell_type": "code",
   "execution_count": 384,
   "metadata": {},
   "outputs": [],
   "source": [
    "efas = node_filter(stack[0])"
   ]
  },
  {
   "cell_type": "code",
   "execution_count": 385,
   "metadata": {},
   "outputs": [
    {
     "name": "stdout",
     "output_type": "stream",
     "text": [
      "(<__main__.eNFA object at 0x7f2ce9ff7a90>, <__main__.eNFA object at 0x7f2ce9ff7070>)\n"
     ]
    }
   ],
   "source": [
    "print(efas)\n",
    "enfa = {}"
   ]
  },
  {
   "cell_type": "code",
   "execution_count": 386,
   "metadata": {},
   "outputs": [],
   "source": [
    "def sonbug_numbering(integer):\n",
    "    assert integer < 1000, \"too complicate RE\"\n",
    "    if integer > 99:\n",
    "        return str(integer)\n",
    "    elif integer > 9:\n",
    "        return \"0\" + str(integer)\n",
    "    else:\n",
    "        return \"00\"+str(integer)"
   ]
  },
  {
   "cell_type": "code",
   "execution_count": 387,
   "metadata": {},
   "outputs": [],
   "source": [
    "def arrange_transitions(State, States_history, symbols):\n",
    "\n",
    "    if State in States_history:\n",
    "        return\n",
    "\n",
    "    States_history.append(State)\n",
    "\n",
    "    for symbol in list(State.next):\n",
    "        if symbol not in enfa['TerminalSet']:\n",
    "            enfa['TerminalSet'].add(symbol)\n",
    "        for ns in State.next[symbol]:\n",
    "            if ns not in symbols:\n",
    "                symbols[ns] = sorted(symbols.values())[-1] + 1\n",
    "                q_state = \"q\" + sonbug_numbering(symbols[ns])\n",
    "                enfa['StateSet'].add(q_state)\n",
    "#enfa['DeltaFunctions'].append([\"q\" + sonbug_numbering(symbols[State]), symbol, \"q\" + sonbug_numbering(symbols[ns])])\n",
    "            if not (\"(q\"+sonbug_numbering(symbols[State])+\", \"+symbol+\")\" in enfa['DeltaFunctions']):\n",
    "                enfa['DeltaFunctions'][\"(q\"+sonbug_numbering(symbols[State])+\", \"+symbol+\")\"] = set()\n",
    "            enfa['DeltaFunctions'][\"(q\"+sonbug_numbering(symbols[State])+\", \"+symbol+\")\"].add(\"q\"+sonbug_numbering(symbols[ns]))      \n",
    "        for ns in State.next[symbol]:\n",
    "            arrange_transitions(ns, States_history, symbols)"
   ]
  },
  {
   "cell_type": "code",
   "execution_count": 388,
   "metadata": {},
   "outputs": [],
   "source": [
    "enfa['StateSet'] = set()\n",
    "enfa['TerminalSet'] = set()\n",
    "enfa['DeltaFunctions'] = {}\n",
    "enfa['StartState'] = set()\n",
    "enfa['FinalStateSet'] = set()\n",
    "q_0 = \"q000\"\n",
    "enfa['StateSet'].add(q_0)\n",
    "arrange_transitions(efas[0], [], {efas[0] : 0})\n",
    "    \n",
    "\n",
    "enfa[\"StartState\"].add(\"q000\")\n",
    "for st in list(enfa[\"StateSet\"]):\n",
    "    count = 0\n",
    "    for key,val in enfa['DeltaFunctions'].items():\n",
    "        for value in list(val):\n",
    "            if key[1:5] == st and value != st:\n",
    "                count += 1\n",
    "    if count == 0 and st not in enfa[\"FinalStateSet\"]:\n",
    "        enfa[\"FinalStateSet\"].add(st)\n"
   ]
  },
  {
   "cell_type": "code",
   "execution_count": 389,
   "metadata": {},
   "outputs": [
    {
     "name": "stdout",
     "output_type": "stream",
     "text": [
      "{'StateSet': {'q006', 'q002', 'q005', 'q001', 'q007', 'q003', 'q000', 'q004'}, 'TerminalSet': {'a', 'b', 'ε'}, 'DeltaFunctions': {'(q000, ε)': {'q001', 'q002'}, '(q001, ε)': {'q003', 'q004'}, '(q003, a)': {'q005'}, '(q005, ε)': {'q006'}, '(q006, ε)': {'q001', 'q002'}, '(q004, b)': {'q007'}, '(q007, ε)': {'q006'}}, 'StartState': {'q000'}, 'FinalStateSet': {'q002'}}\n"
     ]
    }
   ],
   "source": [
    "print(enfa)"
   ]
  }
 ],
 "metadata": {
  "kernelspec": {
   "display_name": "multvenv",
   "language": "python",
   "name": "multvenv"
  },
  "language_info": {
   "codemirror_mode": {
    "name": "ipython",
    "version": 3
   },
   "file_extension": ".py",
   "mimetype": "text/x-python",
   "name": "python",
   "nbconvert_exporter": "python",
   "pygments_lexer": "ipython3",
   "version": "3.8.10"
  },
  "orig_nbformat": 4
 },
 "nbformat": 4,
 "nbformat_minor": 2
}
