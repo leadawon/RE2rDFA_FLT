{
 "cells": [
  {
   "attachments": {},
   "cell_type": "markdown",
   "metadata": {},
   "source": [
    "## RE -> epsilon-NFA"
   ]
  },
  {
   "attachments": {},
   "cell_type": "markdown",
   "metadata": {},
   "source": [
    "(a+b)*abb\n",
    "( recognize check stack[-1] +) ( push , a recognize check len(stack) check stack[-1]+ a push ,+ push(just push) , b recognize check len(stack) check stack[-1]+ stack pop+ b push stack push+ , ) traverse until ( reveals check stack[index'('-1]+ check index'('0 pop all(just concat) , * check len(stack) write , a check len(stack)write, b write, b write\n",
    "\n",
    "(b+a(aa*b)*b)*\n",
    "\n",
    "\n",
    "(b+aa+ac+aaa+aac)*\n",
    "\n",
    "(1+01)*00(0+1)*\n",
    "\n",
    "(0+1)*011  \n"
   ]
  },
  {
   "cell_type": "code",
   "execution_count": 2,
   "metadata": {},
   "outputs": [],
   "source": [
    "from copy import deepcopy"
   ]
  },
  {
   "cell_type": "code",
   "execution_count": null,
   "metadata": {},
   "outputs": [],
   "source": [
    "APT = 0 # a-zA-Z0-9\n",
    "RE_OR = 1 # +\n",
    "RE_CC = 2 # .\n",
    "RE_ST = 3 # *\n",
    "RE_OP = 4 # (\n",
    "RE_CL = 5 # )"
   ]
  },
  {
   "cell_type": "code",
   "execution_count": null,
   "metadata": {},
   "outputs": [],
   "source": [
    "def isapt(c):\n",
    "    if ord(c) >= chr('a') and ord(c) <= chr('z') or ord(c) >= chr('A') and ord(c) <= chr('Z') or ord(c) >= chr('0') and ord(c) <= chr('9'):\n",
    "        return True\n",
    "    return False"
   ]
  },
  {
   "cell_type": "code",
   "execution_count": 2,
   "metadata": {},
   "outputs": [
    {
     "name": "stdout",
     "output_type": "stream",
     "text": [
      "hello world\n"
     ]
    }
   ],
   "source": [
    "class node:\n",
    "    def __init__(self, cn, cv=None, left=None, right=None):\n",
    "        self.cn = cn\n",
    "        self.cv = cv\n",
    "        self.left = None\n",
    "        self.right = None"
   ]
  },
  {
   "cell_type": "code",
   "execution_count": null,
   "metadata": {},
   "outputs": [],
   "source": [
    "RE = \"(a+b)*abb\"\n",
    "stack = []\n",
    "PostFix = \"\"\n",
    "\n",
    "for c in RE:\n",
    "    if isapt(c):\n",
    "        PostFix += c\n",
    "    elif c == '+':\n",
    "        while stack and stack[-1] != '(':\n",
    "            PostFix += stack.pop()\n",
    "        stack.append('+')\n",
    "    elif c == '.':\n",
    "        while stack and stack[-1] != '(':\n",
    "            PostFix += stack.pop()\n",
    "        stack.append('.')\n",
    "    elif c == '(':\n",
    "        stack.append('(')\n",
    "    elif c == ')':\n",
    "        stack.append(')')\n",
    "    elif c == '*':\n",
    "        PostFix += c\n",
    "\n",
    "\n",
    "\n",
    "\n",
    "for c in PostFix:\n",
    "    if isapt(c):\n",
    "        stack.append(node(APT, c))\n",
    "    elif c == '+':\n",
    "        tnd = node(RE_OR)\n",
    "        tnd.left = stack.pop()\n",
    "        tnd.right = stack.pop()\n",
    "        stack.append(deepcopy(tnd))\n",
    "    elif c == '.':\n",
    "        tnd = node(RE_CC)\n",
    "        tnd.left = stack.pop()\n",
    "        tnd.right = stack.pop()\n",
    "        stack.append(deepcopy(tnd))\n",
    "    elif c == '*':\n",
    "        tnd = node(RE_ST)\n",
    "        tnd.left = stack.pop()\n",
    "        stack.append(deepcopy(tnd))\n",
    "    "
   ]
  }
 ],
 "metadata": {
  "kernelspec": {
   "display_name": "jupytervenv",
   "language": "python",
   "name": "python3"
  },
  "language_info": {
   "codemirror_mode": {
    "name": "ipython",
    "version": 3
   },
   "file_extension": ".py",
   "mimetype": "text/x-python",
   "name": "python",
   "nbconvert_exporter": "python",
   "pygments_lexer": "ipython3",
   "version": "3.9.13"
  },
  "orig_nbformat": 4
 },
 "nbformat": 4,
 "nbformat_minor": 2
}
